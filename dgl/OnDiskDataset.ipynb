{
 "cells": [
  {
   "cell_type": "code",
   "execution_count": 1,
   "metadata": {},
   "outputs": [],
   "source": [
    "import os\n",
    "os.environ[\"KMP_DUPLICATE_LIB_OK\"]=\"TRUE\"\n",
    "import torch\n",
    "import numpy as np\n",
    "os.environ['TORCH'] = torch.__version__\n",
    "os.environ['DGLBACKEND'] = \"pytorch\"\n",
    "import dgl\n",
    "import dgl.graphbolt as gb\n",
    "# Install the CPU version.\n",
    "device = torch.device(\"cpu\")"
   ]
  },
  {
   "cell_type": "markdown",
   "metadata": {},
   "source": [
    "OnDiskDataset for Homogeneous Graph"
   ]
  },
  {
   "cell_type": "code",
   "execution_count": 2,
   "metadata": {},
   "outputs": [
    {
     "name": "stdout",
     "output_type": "stream",
     "text": [
      "Created base directory: ../../../data/dgl/ondisk_dataset_homograph\n"
     ]
    }
   ],
   "source": [
    "base_dir = '../../../data/dgl/ondisk_dataset_homograph'\n",
    "os.makedirs(base_dir, exist_ok=True)\n",
    "print(f\"Created base directory: {base_dir}\")"
   ]
  },
  {
   "cell_type": "markdown",
   "metadata": {},
   "source": [
    "Generate graph structure data"
   ]
  },
  {
   "cell_type": "code",
   "execution_count": 8,
   "metadata": {},
   "outputs": [
    {
     "name": "stdout",
     "output_type": "stream",
     "text": [
      "Part of edges: [[261 584]\n",
      " [582 215]\n",
      " [525 736]\n",
      " [199 130]\n",
      " [879 964]]\n",
      "Edges are saved into ../../../data/dgl/ondisk_dataset_homograph\\edges.csv\n"
     ]
    }
   ],
   "source": [
    "import numpy as np\n",
    "import pandas as pd\n",
    "num_nodes = 1000\n",
    "num_edges =10*num_nodes \n",
    "edges_path = os.path.join(base_dir,\"edges.csv\")\n",
    "edges = np.random.randint(0, num_nodes, size=(num_edges, 2))\n",
    "print(f\"Part of edges: {edges[:5, :]}\")\n",
    "df = pd.DataFrame(edges)\n",
    "df.to_csv(edges_path, index=False, header=False)\n",
    "\n",
    "print(f\"Edges are saved into {edges_path}\")"
   ]
  },
  {
   "cell_type": "markdown",
   "metadata": {},
   "source": [
    "Generate feature data for graph"
   ]
  },
  {
   "cell_type": "code",
   "execution_count": 9,
   "metadata": {},
   "outputs": [
    {
     "name": "stdout",
     "output_type": "stream",
     "text": [
      "Part of node feature [feat_0]: [[0.82004028 0.78046455 0.0275947  0.37643646 0.32720027]\n",
      " [0.31898386 0.66563717 0.34796475 0.58852714 0.64941815]\n",
      " [0.5465205  0.21895346 0.80124164 0.18662825 0.81369575]]\n",
      "Node feature [feat_0] is saved to ../../../data/dgl/ondisk_dataset_homograph\\node-feat-0.npy\n",
      "\n",
      "Part of node feature [feat_1]: tensor([[0.8605, 0.2468, 0.1715, 0.8992, 0.5508],\n",
      "        [0.5529, 0.9438, 0.6789, 0.6452, 0.8538],\n",
      "        [0.9630, 0.6347, 0.3732, 0.0950, 0.4641]])\n",
      "Node feature [feat_1] is saved to ../../../data/dgl/ondisk_dataset_homograph\\node-feat-1.pt\n",
      "\n",
      "Part of edge feature [feat_0]: [[0.61011293 0.00360849 0.84215007 0.97483102 0.83702901]\n",
      " [0.9022446  0.88211169 0.72230691 0.14724787 0.20859767]\n",
      " [0.93742945 0.14785462 0.14806762 0.5537597  0.25670627]]\n",
      "Edge feature [feat_0] is saved to ../../../data/dgl/ondisk_dataset_homograph\\edge-feat-0.npy\n",
      "\n",
      "Part of edge feature [feat_1]: tensor([[0.9157, 0.7593, 0.6878, 0.4095, 0.7023],\n",
      "        [0.2242, 0.6833, 0.5608, 0.9647, 0.2282],\n",
      "        [0.5799, 0.0354, 0.6544, 0.6342, 0.8672]])\n",
      "Edge feature [feat_1] is saved to ../../../data/dgl/ondisk_dataset_homograph\\edge-feat-1.pt\n",
      "\n"
     ]
    }
   ],
   "source": [
    "# Generate node feature in numpy array.\n",
    "node_feat_0_path = os.path.join(base_dir, \"node-feat-0.npy\")\n",
    "node_feat_0 = np.random.rand(num_nodes, 5)\n",
    "print(f\"Part of node feature [feat_0]: {node_feat_0[:3, :]}\")\n",
    "np.save(node_feat_0_path, node_feat_0)\n",
    "print(f\"Node feature [feat_0] is saved to {node_feat_0_path}\\n\")\n",
    "\n",
    "# Generate another node feature in torch tensor\n",
    "node_feat_1_path = os.path.join(base_dir, \"node-feat-1.pt\")\n",
    "node_feat_1 = torch.rand(num_nodes, 5)\n",
    "print(f\"Part of node feature [feat_1]: {node_feat_1[:3, :]}\")\n",
    "torch.save(node_feat_1, node_feat_1_path)\n",
    "print(f\"Node feature [feat_1] is saved to {node_feat_1_path}\\n\")\n",
    "\n",
    "# Generate edge feature in numpy array.\n",
    "edge_feat_0_path = os.path.join(base_dir, \"edge-feat-0.npy\")\n",
    "edge_feat_0 = np.random.rand(num_edges, 5)\n",
    "print(f\"Part of edge feature [feat_0]: {edge_feat_0[:3, :]}\")\n",
    "np.save(edge_feat_0_path, edge_feat_0)\n",
    "print(f\"Edge feature [feat_0] is saved to {edge_feat_0_path}\\n\")\n",
    "\n",
    "# Generate another edge feature in torch tensor\n",
    "edge_feat_1_path = os.path.join(base_dir, \"edge-feat-1.pt\")\n",
    "edge_feat_1 = torch.rand(num_edges, 5)\n",
    "print(f\"Part of edge feature [feat_1]: {edge_feat_1[:3, :]}\")\n",
    "torch.save(edge_feat_1, edge_feat_1_path)\n",
    "print(f\"Edge feature [feat_1] is saved to {edge_feat_1_path}\\n\")\n"
   ]
  },
  {
   "cell_type": "markdown",
   "metadata": {},
   "source": [
    "Generate tasks¶"
   ]
  },
  {
   "cell_type": "code",
   "execution_count": null,
   "metadata": {},
   "outputs": [],
   "source": []
  }
 ],
 "metadata": {
  "kernelspec": {
   "display_name": "base",
   "language": "python",
   "name": "python3"
  },
  "language_info": {
   "codemirror_mode": {
    "name": "ipython",
    "version": 3
   },
   "file_extension": ".py",
   "mimetype": "text/x-python",
   "name": "python",
   "nbconvert_exporter": "python",
   "pygments_lexer": "ipython3",
   "version": "3.11.7"
  }
 },
 "nbformat": 4,
 "nbformat_minor": 2
}
